{
 "cells": [
  {
   "cell_type": "markdown",
   "metadata": {},
   "source": [
    "Perceptron"
   ]
  },
  {
   "cell_type": "markdown",
   "metadata": {},
   "source": [
    " > is an artificial neuron that can make a simple decision"
   ]
  },
  {
   "cell_type": "markdown",
   "metadata": {},
   "source": [
    "Perceptron has three main components:"
   ]
  },
  {
   "cell_type": "markdown",
   "metadata": {},
   "source": [
    "1. Inputs: Each input corresponds to a feature. For example, in the case of a person, features could be age, height, weight, college degree, etc."
   ]
  },
  {
   "cell_type": "markdown",
   "metadata": {},
   "source": [
    "2. Weights: Each input also has a weight which assigns a certain amount of importance to the input. If an input’s weight is large, it means this input plays a bigger role in determining the output. For example, a team’s skill level will have a bigger weight than the average age of players in determining the outcome of a match."
   ]
  },
  {
   "cell_type": "markdown",
   "metadata": {},
   "source": [
    "3. Output: Finally, the perceptron uses the inputs and weights to produce an output. The type of the output varies depending on the nature of the problem. For example, to predict whether or not it’s going to rain, the output has to be binary — 1 for Yes and 0 for No. However, to predict the temperature for the next day, the range of the output has to be larger — say a number from 70 to 90."
   ]
  },
  {
   "cell_type": "code",
   "execution_count": 15,
   "metadata": {},
   "outputs": [],
   "source": [
    "class Perceptron:\n",
    "    def __init__(self, num_inputs=2, weights=[1,1]):\n",
    "        self.num_inputs = num_inputs\n",
    "        self.weights =  weights\n",
    "        \n",
    "    def weighted_sum(self, inputs):\n",
    "        weighted_sum = 0\n",
    "        for i in range(self.num_inputs):\n",
    "            weighted_sum += inputs[i] * self.weights[i]\n",
    "        return weighted_sum\n",
    "    \n",
    "    def activation(self, weighted_sum):\n",
    "        if weighted_sum  >= 0:\n",
    "            return 1\n",
    "        elif weighted_sum < 0:\n",
    "            return -1\n",
    "        \n",
    "    def training(self, training_set):\n",
    "        foundLine = False\n",
    "        while not foundLine:\n",
    "          total_error = 0\n",
    "          for inputs in training_set:\n",
    "            prediction = self.activation(self.weighted_sum(inputs))\n",
    "            actual = training_set[inputs]\n",
    "            error = actual - prediction\n",
    "            total_error += abs(error)\n",
    "            for i in range(self.num_inputs):\n",
    "              self.weights[i] += (error * inputs[i])\n",
    "          if total_error == 0:\n",
    "            foundLine = True\n",
    "            "
   ]
  },
  {
   "cell_type": "markdown",
   "metadata": {},
   "source": [
    "**weighted sum**\n",
    "\n",
    "> weighted_sum = (xinput_1 * weight_1) + (xinput_2 * weight_2) + ... + (xinput_n * weight_n)\n"
   ]
  },
  {
   "cell_type": "markdown",
   "metadata": {},
   "source": [
    "* foundLine = False (a boolean that indicates whether the perceptron has found a line to separate the positive and negative labels)\n",
    "* while not foundLine: (a while loop that continues to train the perceptron until the line is found)\n",
    "* total_error = 0 (to count the total error the perceptron makes in each round)\n",
    "* total_error += abs(error) (to update the total error the perceptron makes in each round)"
   ]
  },
  {
   "cell_type": "code",
   "execution_count": 9,
   "metadata": {},
   "outputs": [],
   "source": [
    "cool_perceptron = Perceptron()"
   ]
  },
  {
   "cell_type": "code",
   "execution_count": 10,
   "metadata": {},
   "outputs": [
    {
     "data": {
      "text/plain": [
       "79"
      ]
     },
     "execution_count": 10,
     "metadata": {},
     "output_type": "execute_result"
    }
   ],
   "source": [
    "cool_perceptron.weighted_sum([24,55])"
   ]
  },
  {
   "cell_type": "markdown",
   "metadata": {},
   "source": [
    "**Activation Function**\n",
    "\n",
    "After finding the weighted sum, the second step is to constrain the weighted sum to produce a desired output.\n",
    "\n",
    "to train a perceptron to detect whether a point is above or below a line, we want the output to be a +1 or -1 label. For this task,  use the “sign activation function” to help the perceptron make the decision\n",
    "\n",
    "* If weighted sum is positive, return +1\n",
    "* If weighted sum is negative, return -1"
   ]
  },
  {
   "cell_type": "markdown",
   "metadata": {},
   "source": [
    "**Training Perceptron**\n",
    "\n",
    "* to produce better and better results\n",
    "* provide the perceptron a training set — a collection of random inputs with correctly predicted outputs."
   ]
  },
  {
   "cell_type": "markdown",
   "metadata": {},
   "source": [
    "The goal is to gradually nudge the perceptron — by slightly changing its weights — towards a better version of itself that correctly matches all the input-output pairs in the training set."
   ]
  },
  {
   "cell_type": "code",
   "execution_count": 12,
   "metadata": {},
   "outputs": [],
   "source": [
    "import seaborn as sns\n",
    "import matplotlib.pyplot as plt\n",
    "import random"
   ]
  },
  {
   "cell_type": "code",
   "execution_count": 13,
   "metadata": {},
   "outputs": [
    {
     "data": {
      "image/png": "[encoded data removed]",
      "text/plain": [
       "<Figure size 432x288 with 1 Axes>"
      ]
     },
     "metadata": {
      "needs_background": "light"
     },
     "output_type": "display_data"
    }
   ],
   "source": [
    "def generate_training_set(num_points):\n",
    "\tx_coordinates = [random.randint(0, 50) for i in range(num_points)]\n",
    "\ty_coordinates = [random.randint(0, 50) for i in range(num_points)]\n",
    "\ttraining_set = dict()\n",
    "\tfor x, y in zip(x_coordinates, y_coordinates):\n",
    "\t\tif x <= 45-y:\n",
    "\t\t\ttraining_set[(x,y)] = 1\n",
    "\t\telif x > 45-y:\n",
    "\t\t\ttraining_set[(x,y)] = -1\n",
    "\treturn training_set\n",
    "\n",
    "training_set = generate_training_set(30)\n",
    "\n",
    "x_plus = []\n",
    "y_plus = []\n",
    "x_minus = []\n",
    "y_minus = []\n",
    "\n",
    "for data in training_set:\n",
    "\tif training_set[data] == 1:\n",
    "\t\tx_plus.append(data[0])\n",
    "\t\ty_plus.append(data[1])\n",
    "\telif training_set[data] == -1:\n",
    "\t\tx_minus.append(data[0])\n",
    "\t\ty_minus.append(data[1])\n",
    "    \n",
    "fig = plt.figure()\n",
    "ax = plt.axes(xlim=(-25, 75), ylim=(-25, 75))\n",
    "\n",
    "plt.scatter(x_plus, y_plus, marker = '+', c = 'green', s = 128, linewidth = 2)\n",
    "plt.scatter(x_minus, y_minus, marker = '_', c = 'red', s = 128, linewidth = 2)\n",
    "\n",
    "plt.title(\"Training Set\")\n",
    "\n",
    "plt.show()"
   ]
  },
  {
   "cell_type": "markdown",
   "metadata": {},
   "source": [
    "**Training Error**\n",
    "\n",
    "Every time the output mismatches the expected label, we say that the perceptron has made a training error \n",
    "\n",
    "> training error = actual label − predicted label"
   ]
  },
  {
   "cell_type": "markdown",
   "metadata": {},
   "source": [
    "slowly nudge the perceptron towards a better version of itself that eventually has zero error.\n",
    "\n",
    "The only way to do that is to change the parameters that define the perceptron. We can’t change the inputs so the only thing that can be tweaked are the weights. As we change the weights, the outputs change as well.\n",
    "\n",
    "The goal is to find the optimal combination of weights that will produce the correct output for as many points as possible in the dataset."
   ]
  },
  {
   "cell_type": "markdown",
   "metadata": {},
   "source": [
    " training set has been represented as a dictionary with coordinates as keys and labels as values\n",
    " \n",
    "` training_set = {(18, 49): -1, (2, 17): 1, (24, 35): -1, (14, 26): 1, (17, 34): -1} `"
   ]
  },
  {
   "cell_type": "markdown",
   "metadata": {},
   "source": [
    "**Perceptron Algorithm**\n",
    "\n",
    "tweak the weights optimally\n",
    "directly apply the algorithm to optimally tweak the weights and nudge the perceptron towards zero error.\n",
    "\n",
    "> weight = weight + (error * input)weight=weight+(error∗input)\n",
    "\n",
    " tweaking the weights until all possible labels are correctly predicted by the perceptron. This means that multiple passes might need to be made through the training_set before the Perceptron Algorithm comes to a halt."
   ]
  },
  {
   "cell_type": "code",
   "execution_count": 16,
   "metadata": {},
   "outputs": [
    {
     "name": "stdout",
     "output_type": "stream",
     "text": [
      "None\n"
     ]
    }
   ],
   "source": [
    "cool_perceptron = Perceptron()\n",
    "small_training_set = {(0,3):1, (3,0):-1, (0,-3):-1, (-3,0):1}\n",
    "print(cool_perceptron.training(small_training_set))"
   ]
  },
  {
   "cell_type": "markdown",
   "metadata": {},
   "source": [
    "**Bias Weight**\n",
    "\n",
    "perceptron can be trained to produce correct outputs by tweaking the regular weights.\n",
    "minor adjustment is needed for the perceptron to be more accurate. This supporting role is played by the bias weight. It takes a default input value of 1 and some random weight value.\n",
    "\n",
    "> weighted_sum = (xinput_1 * weight_1) + (xinput_2 * weight_2) + ... + (xinput_n * weight_n) + 1weight_b\n"
   ]
  },
  {
   "cell_type": "markdown",
   "metadata": {},
   "source": [
    "A perceptron’s weights can be used to find the slope and intercept of the line that the perceptron represents."
   ]
  },
  {
   "cell_type": "markdown",
   "metadata": {},
   "source": [
    "* slope = -self.weights[0]/self.weights[1]\n",
    "* intercept = -self.weights[2]/self.weights[1]"
   ]
  },
  {
   "cell_type": "code",
   "execution_count": null,
   "metadata": {},
   "outputs": [],
   "source": []
  }
 ],
 "metadata": {
  "kernelspec": {
   "display_name": "Python 3",
   "language": "python",
   "name": "python3"
  },
  "language_info": {
   "codemirror_mode": {
    "name": "ipython",
    "version": 3
   },
   "file_extension": ".py",
   "mimetype": "text/x-python",
   "name": "python",
   "nbconvert_exporter": "python",
   "pygments_lexer": "ipython3",
   "version": "3.6.4"
  }
 },
 "nbformat": 4,
 "nbformat_minor": 4
}
